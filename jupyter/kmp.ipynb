{
 "cells": [
  {
   "cell_type": "code",
   "execution_count": 2,
   "outputs": [
    {
     "data": {
      "text/plain": "[0, 0, 0, 0, 1, 2, 0, 0, 0, 1, 2, 3, 4, 5]"
     },
     "execution_count": 2,
     "metadata": {},
     "output_type": "execute_result"
    }
   ],
   "source": [
    "def createDfa(pat):\n",
    "    arr = [0 for i in range(0,len(pat))]\n",
    "    # 前进指针\n",
    "    i = 1\n",
    "    # 回退指针\n",
    "    j = 0\n",
    "    for a in range(0,len(pat)-2):\n",
    "        if pat[i] == pat[j]:\n",
    "                j = j + 1\n",
    "                arr[i+1] = j\n",
    "        else:\n",
    "             j = 0\n",
    "        i += 1\n",
    "    return arr\n",
    "createDfa(\"abcabdddabcabc\")"
   ],
   "metadata": {
    "collapsed": false,
    "pycharm": {
     "name": "#%%\n"
    }
   }
  },
  {
   "cell_type": "code",
   "execution_count": null,
   "outputs": [],
   "source": [],
   "metadata": {
    "collapsed": false,
    "pycharm": {
     "name": "#%%\n"
    }
   }
  }
 ],
 "metadata": {
  "kernelspec": {
   "display_name": "Python 3",
   "language": "python",
   "name": "python3"
  },
  "language_info": {
   "codemirror_mode": {
    "name": "ipython",
    "version": 2
   },
   "file_extension": ".py",
   "mimetype": "text/x-python",
   "name": "python",
   "nbconvert_exporter": "python",
   "pygments_lexer": "ipython2",
   "version": "2.7.6"
  }
 },
 "nbformat": 4,
 "nbformat_minor": 0
}