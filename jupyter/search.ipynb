{
 "cells": [
  {
   "cell_type": "code",
   "execution_count": null,
   "outputs": [],
   "source": [
    "- py的切片是左闭右开\n",
    "- 全部使用索引\n",
    "- 防止越界\n",
    "- return a if true else b ，类似于java中的三目运算符\n",
    "- a //2 结果直接截断"
   ],
   "metadata": {
    "collapsed": false,
    "pycharm": {
     "name": "#%%\n"
    }
   }
  },
  {
   "cell_type": "code",
   "execution_count": 4,
   "outputs": [
    {
     "name": "stdout",
     "output_type": "stream",
     "text": [
      "2\n"
     ]
    }
   ],
   "source": [
    "import math\n",
    "\n",
    "def search(p,arr,low,high)->int:\n",
    "    m = (high + low)//2\n",
    "    v = arr[m]\n",
    "    if v == p:\n",
    "        return  m\n",
    "    elif p < v:\n",
    "        return search(p,arr,low,m-1) if low < m else -1\n",
    "    elif p > v:\n",
    "        return search(p,arr,m+1,high) if high > m else -1\n",
    "\n",
    "arr = [1,2,3,4,5,100,200]\n",
    "i = search(3,arr,0,len(arr)-1)\n",
    "print(i)\n"
   ],
   "metadata": {
    "collapsed": false,
    "pycharm": {
     "name": "#%%\n"
    }
   }
  },
  {
   "cell_type": "code",
   "execution_count": null,
   "outputs": [],
   "source": [],
   "metadata": {
    "collapsed": false,
    "pycharm": {
     "name": "#%%\n"
    }
   }
  }
 ],
 "metadata": {
  "kernelspec": {
   "display_name": "Python 3",
   "language": "python",
   "name": "python3"
  },
  "language_info": {
   "codemirror_mode": {
    "name": "ipython",
    "version": 2
   },
   "file_extension": ".py",
   "mimetype": "text/x-python",
   "name": "python",
   "nbconvert_exporter": "python",
   "pygments_lexer": "ipython2",
   "version": "2.7.6"
  }
 },
 "nbformat": 4,
 "nbformat_minor": 0
}