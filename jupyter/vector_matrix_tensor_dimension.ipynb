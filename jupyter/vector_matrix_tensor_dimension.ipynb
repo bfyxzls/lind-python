{
 "cells": [
  {
   "cell_type": "code",
   "execution_count": 5,
   "metadata": {
    "collapsed": true,
    "pycharm": {
     "name": "#%%\n"
    }
   },
   "outputs": [
    {
     "name": "stdout",
     "output_type": "stream",
     "text": [
      "形状: torch.Size([3])\n",
      "维度: 1\n"
     ]
    }
   ],
   "source": [
    "import torch\n",
    "\n",
    "# 创建一个向量\n",
    "v = torch.tensor([1, 2, 3])\n",
    "\n",
    "# 查看向量的维度\n",
    "print(\"形状:\", v.shape)  # 输出: torch.Size([3])\n",
    "print(\"维度:\", v.ndim)  # 输出: 1"
   ]
  },
  {
   "cell_type": "code",
   "execution_count": 18,
   "outputs": [
    {
     "name": "stdout",
     "output_type": "stream",
     "text": [
      "形状: torch.Size([3, 2])\n",
      "维度: 2\n"
     ]
    }
   ],
   "source": [
    "# 创建一个矩阵\n",
    "A = torch.tensor([\n",
    "    [1, 2],\n",
    "    [3, 4],\n",
    "    [3, 4]\n",
    "])\n",
    "\n",
    "# 查看矩阵的维度\n",
    "print(\"形状:\", A.shape)  # 输出: torch.Size([2, 2])\n",
    "print(\"维度:\", A.ndim)  # 输出: 2"
   ],
   "metadata": {
    "collapsed": false,
    "pycharm": {
     "name": "#%%\n"
    }
   }
  },
  {
   "cell_type": "code",
   "execution_count": 22,
   "outputs": [
    {
     "name": "stdout",
     "output_type": "stream",
     "text": [
      "形状: torch.Size([2, 4, 4])\n",
      "维度: 3\n"
     ]
    }
   ],
   "source": [
    "# 创建一个三维张量\n",
    "T = torch.tensor([\n",
    "    [[1, 2, 3, 4], [5, 6, 7, 8], [9, 10, 11, 12], [19, 100, 21, 14]],\n",
    "    [[13, 14, 15, 16], [17, 18, 19, 20], [21, 22, 23, 24], [25, 26, 27, 28]]\n",
    "])\n",
    "\n",
    "# 查看张量的维度\n",
    "print(\"形状:\", T.shape)  # 输出: torch.Size([2, 4, 4])\n",
    "print(\"维度:\", T.ndim)  # 输出: 3，高等维度，更抽象的一层，（2，4，4）三种轴，所以是3维\n"
   ],
   "metadata": {
    "collapsed": false,
    "pycharm": {
     "name": "#%%\n"
    }
   }
  },
  {
   "cell_type": "code",
   "execution_count": 23,
   "outputs": [
    {
     "name": "stdout",
     "output_type": "stream",
     "text": [
      "形状: torch.Size([2, 3, 4, 5])\n",
      "维度: 4\n"
     ]
    }
   ],
   "source": [
    "import torch\n",
    "\n",
    "# 定义一个形状为 (2, 3, 4, 5) 的四维张量\n",
    "T = torch.tensor([\n",
    "    [\n",
    "        [[1, 2, 3, 4, 5], [6, 7, 8, 9, 10], [11, 12, 13, 14, 15], [16, 17, 18, 19, 20]],\n",
    "        [[21, 22, 23, 24, 25], [26, 27, 28, 29, 30], [31, 32, 33, 34, 35], [36, 37, 38, 39, 40]],\n",
    "        [[41, 42, 43, 44, 45], [46, 47, 48, 49, 50], [51, 52, 53, 54, 55], [56, 57, 58, 59, 60]]\n",
    "    ],\n",
    "    [\n",
    "        [[61, 62, 63, 64, 65], [66, 67, 68, 69, 70], [71, 72, 73, 74, 75], [76, 77, 78, 79, 80]],\n",
    "        [[81, 82, 83, 84, 85], [86, 87, 88, 89, 90], [91, 92, 93, 94, 95], [96, 97, 98, 99, 100]],\n",
    "        [[101, 102, 103, 104, 105], [106, 107, 108, 109, 110], [111, 112, 113, 114, 115], [116, 117, 118, 119, 120]]\n",
    "    ]\n",
    "])\n",
    "\n",
    "# 查看张量的形状和维度\n",
    "print(\"形状:\", T.shape)  # 输出: torch.Size([2, 3, 4, 5]),\n",
    "# 第一个维度（Batch Size 或其他）\n",
    "# 第二个维度（通道数或其他）\n",
    "# 第三个维度（高度或其他）\n",
    "# 第四个维度（宽度或其他）\n",
    "print(\"维度:\", T.ndim)  # 输出: 4\n"
   ],
   "metadata": {
    "collapsed": false,
    "pycharm": {
     "name": "#%%\n"
    }
   }
  },
  {
   "cell_type": "code",
   "execution_count": 31,
   "outputs": [
    {
     "data": {
      "text/plain": "tensor([[[0., 0., 0., 0., 0.],\n         [0., 0., 0., 0., 0.],\n         [0., 0., 0., 0., 0.]],\n\n        [[0., 0., 0., 0., 0.],\n         [0., 0., 0., 0., 0.],\n         [0., 0., 0., 0., 0.]]])"
     },
     "execution_count": 31,
     "metadata": {},
     "output_type": "execute_result"
    }
   ],
   "source": [
    "torch.zeros(2, 3, 5)  # 创建一个形状为 (2, 3, 4, 5) 的3维度的张量，元素全为 0"
   ],
   "metadata": {
    "collapsed": false,
    "pycharm": {
     "name": "#%%\n"
    }
   }
  },
  {
   "cell_type": "code",
   "execution_count": 32,
   "outputs": [
    {
     "data": {
      "text/plain": "0"
     },
     "execution_count": 32,
     "metadata": {},
     "output_type": "execute_result"
    }
   ],
   "source": [
    "A = torch.tensor(1)  # 创建一个标量，0阶，0维度张量\n",
    "A.ndim"
   ],
   "metadata": {
    "collapsed": false,
    "pycharm": {
     "name": "#%%\n"
    }
   }
  },
  {
   "cell_type": "code",
   "execution_count": 33,
   "outputs": [
    {
     "data": {
      "text/plain": "1"
     },
     "execution_count": 33,
     "metadata": {},
     "output_type": "execute_result"
    }
   ],
   "source": [
    "A = torch.tensor([1, 2, 3])  # 创建一个形状为 (3,) 的向量，1阶，1维度张量\n",
    "A.ndim"
   ],
   "metadata": {
    "collapsed": false,
    "pycharm": {
     "name": "#%%\n"
    }
   }
  },
  {
   "cell_type": "code",
   "execution_count": 34,
   "outputs": [
    {
     "data": {
      "text/plain": "2"
     },
     "execution_count": 34,
     "metadata": {},
     "output_type": "execute_result"
    }
   ],
   "source": [
    "A = torch.tensor([[1, 2, 3], [4, 5, 6]])  # 创建一个形状为 (2, 3) 的矩阵，2阶，2维度张量\n",
    "A.ndim"
   ],
   "metadata": {
    "collapsed": false,
    "pycharm": {
     "name": "#%%\n"
    }
   }
  },
  {
   "cell_type": "code",
   "execution_count": 35,
   "outputs": [
    {
     "data": {
      "text/plain": "3"
     },
     "execution_count": 35,
     "metadata": {},
     "output_type": "execute_result"
    }
   ],
   "source": [
    "A = torch.tensor([[[1, 2, 3], [4, 5, 6]], [[7, 8, 9], [10, 11, 12]]])  # 创建一个形状为 (2, 2, 3) 的三维张量，3阶，3维度张量\n",
    "A.ndim"
   ],
   "metadata": {
    "collapsed": false,
    "pycharm": {
     "name": "#%%\n"
    }
   }
  },
  {
   "cell_type": "code",
   "execution_count": null,
   "outputs": [],
   "source": [],
   "metadata": {
    "collapsed": false,
    "pycharm": {
     "name": "#%%\n"
    }
   }
  }
 ],
 "metadata": {
  "kernelspec": {
   "display_name": "Python 3",
   "language": "python",
   "name": "python3"
  },
  "language_info": {
   "codemirror_mode": {
    "name": "ipython",
    "version": 2
   },
   "file_extension": ".py",
   "mimetype": "text/x-python",
   "name": "python",
   "nbconvert_exporter": "python",
   "pygments_lexer": "ipython2",
   "version": "2.7.6"
  }
 },
 "nbformat": 4,
 "nbformat_minor": 0
}